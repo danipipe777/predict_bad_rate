{
 "cells": [
  {
   "cell_type": "markdown",
   "id": "7191bc8e",
   "metadata": {},
   "source": [
    "# Set Root"
   ]
  },
  {
   "cell_type": "code",
   "execution_count": 1,
   "id": "dbfe644b",
   "metadata": {},
   "outputs": [],
   "source": [
    "import os\n",
    "import re\n",
    "\n",
    "root_path = re.findall('.*?predict_bad_rate', os.getcwd())[0]\n",
    "os.chdir(root_path)"
   ]
  },
  {
   "cell_type": "markdown",
   "id": "a12a356d",
   "metadata": {},
   "source": [
    "# Leer YAML"
   ]
  },
  {
   "cell_type": "code",
   "execution_count": 2,
   "id": "ea653c69",
   "metadata": {},
   "outputs": [],
   "source": [
    "import yaml\n",
    "\n",
    "with open('params.yaml', 'r') as file:\n",
    "    yaml_config = yaml.safe_load(file)"
   ]
  },
  {
   "cell_type": "markdown",
   "id": "2f98ca6f",
   "metadata": {},
   "source": [
    "# Importación de Bibliotecas"
   ]
  },
  {
   "cell_type": "code",
   "execution_count": 3,
   "id": "5eb7dc9b",
   "metadata": {},
   "outputs": [],
   "source": [
    "import numpy as np\n",
    "import sklearn.metrics as skm\n",
    "import plotly.express as px\n",
    "import plotly.graph_objects as go\n",
    "import joblib as jl\n",
    "import pandas as pd\n",
    "import seaborn as sns\n",
    "import matplotlib.pyplot as plt"
   ]
  },
  {
   "cell_type": "markdown",
   "id": "83930e7a",
   "metadata": {},
   "source": [
    "# Carga de Datos de Piloto"
   ]
  },
  {
   "cell_type": "markdown",
   "id": "bbfbeb7b",
   "metadata": {},
   "source": [
    "<font style='color:red; font-weight:bold'>ALERTA!!!</font> la sección 'Carga del Parquet' contiene la versiones de estos archivos en parquet para hacer la carga más rápida."
   ]
  },
  {
   "cell_type": "code",
   "execution_count": 4,
   "id": "5a24cfcc",
   "metadata": {},
   "outputs": [],
   "source": [
    "datos_buro = pd.read_excel(\n",
    "    yaml_config['centralizado']['folder_raw_piloto'] +\n",
    "    'Informes comerciales por ID - Calificación centralizada Junio-30.xlsx'\n",
    ")\n",
    "\n",
    "datos_buro.columns = datos_buro.columns.str.lower()\n",
    "datos_buro['peor_sit_bureau_ult'] = (\n",
    "    datos_buro['peor_sit_bureau_ult']\n",
    "    .astype(str)\n",
    ")\n",
    "datos_buro.set_index('id', inplace=True)\n",
    "\n",
    "datos_personales = pd.read_excel(\n",
    "    yaml_config['centralizado']['folder_raw_piloto'] +\n",
    "    'Datos Personales por ID - Calificación centralizada Junio-30.xlsx',\n",
    ")\n",
    "\n",
    "datos_personales.columns = datos_personales.columns.str.lower()\n",
    "\n",
    "datos_externos = pd.read_parquet(\n",
    "    yaml_config['centralizado']['folder_processed'] +\n",
    "    'data_piloto_with_external_variables_20220801.parquet',\n",
    ").set_index('id_cliente')\n",
    "datos_externos.drop(columns=['calle',\n",
    "                             'cd_postal',\n",
    "                             'ciudad',\n",
    "                             'provincia',\n",
    "                             'pais',\n",
    "                             'address',\n",
    "                             'latitude',\n",
    "                             'longitude',\n",
    "                             'score',\n",
    "                             'country',\n",
    "                             'success',\n",
    "                             'message',\n",
    "                             'h3_id'], inplace=True)\n"
   ]
  },
  {
   "cell_type": "code",
   "execution_count": 5,
   "id": "466f2f5c",
   "metadata": {},
   "outputs": [
    {
     "data": {
      "text/plain": [
       "(57986, (57986, 59))"
      ]
     },
     "execution_count": 5,
     "metadata": {},
     "output_type": "execute_result"
    }
   ],
   "source": [
    "datos_buro.index.nunique(), datos_buro.shape"
   ]
  },
  {
   "cell_type": "code",
   "execution_count": 6,
   "id": "6155beba",
   "metadata": {},
   "outputs": [
    {
     "data": {
      "text/plain": [
       "(50632, 59)"
      ]
     },
     "execution_count": 6,
     "metadata": {},
     "output_type": "execute_result"
    }
   ],
   "source": [
    "datos_buro[datos_buro.riesgo_score>350].shape"
   ]
  },
  {
   "cell_type": "code",
   "execution_count": 7,
   "id": "8601bf64",
   "metadata": {},
   "outputs": [
    {
     "data": {
      "text/plain": [
       "'2'    57986\n",
       "Name: cartera, dtype: int64"
      ]
     },
     "execution_count": 7,
     "metadata": {},
     "output_type": "execute_result"
    }
   ],
   "source": [
    "datos_buro['cartera'].value_counts()"
   ]
  },
  {
   "cell_type": "code",
   "execution_count": 5,
   "id": "d4c3cd7c",
   "metadata": {},
   "outputs": [],
   "source": [
    "datos_buro['cartera']=datos_buro['cartera'].replace('\\'', '', regex=True)\n",
    "datos_buro['cartera']= pd.to_numeric(\n",
    "    datos_buro['cartera'], errors='coerce'\n",
    ")"
   ]
  },
  {
   "cell_type": "code",
   "execution_count": 6,
   "id": "bc76c0e1",
   "metadata": {},
   "outputs": [],
   "source": [
    "_client_rules=datos_buro.index[datos_buro.riesgo_score>350]"
   ]
  },
  {
   "cell_type": "code",
   "execution_count": 7,
   "id": "07041629",
   "metadata": {},
   "outputs": [
    {
     "data": {
      "text/plain": [
       "(57987, (57987, 10))"
      ]
     },
     "execution_count": 7,
     "metadata": {},
     "output_type": "execute_result"
    }
   ],
   "source": [
    "datos_personales['id cliente'].nunique(), datos_personales.shape"
   ]
  },
  {
   "cell_type": "code",
   "execution_count": 8,
   "id": "0ba73f44",
   "metadata": {},
   "outputs": [],
   "source": [
    "datos_personales_rules_350 = datos_personales[\n",
    "    datos_personales['id cliente']\n",
    "    .isin(_client_rules)]"
   ]
  },
  {
   "cell_type": "code",
   "execution_count": 9,
   "id": "6b170f1c",
   "metadata": {},
   "outputs": [
    {
     "data": {
      "text/plain": [
       "(50632, 10)"
      ]
     },
     "execution_count": 9,
     "metadata": {},
     "output_type": "execute_result"
    }
   ],
   "source": [
    "datos_personales_rules_350.shape"
   ]
  },
  {
   "cell_type": "code",
   "execution_count": 13,
   "id": "f94c4573",
   "metadata": {},
   "outputs": [
    {
     "name": "stderr",
     "output_type": "stream",
     "text": [
      "/tmp/ipykernel_11036/3192857139.py:1: SettingWithCopyWarning: \n",
      "A value is trying to be set on a copy of a slice from a DataFrame.\n",
      "Try using .loc[row_indexer,col_indexer] = value instead\n",
      "\n",
      "See the caveats in the documentation: https://pandas.pydata.org/pandas-docs/stable/user_guide/indexing.html#returning-a-view-versus-a-copy\n",
      "  datos_personales_rules_350['calle']=datos_personales_rules_350['calle'].astype(str)\n",
      "/tmp/ipykernel_11036/3192857139.py:2: SettingWithCopyWarning: \n",
      "A value is trying to be set on a copy of a slice from a DataFrame.\n",
      "Try using .loc[row_indexer,col_indexer] = value instead\n",
      "\n",
      "See the caveats in the documentation: https://pandas.pydata.org/pandas-docs/stable/user_guide/indexing.html#returning-a-view-versus-a-copy\n",
      "  datos_personales_rules_350['cd postal']=datos_personales_rules_350['cd postal'].astype(str)\n"
     ]
    }
   ],
   "source": [
    "datos_personales_rules_350['calle']=datos_personales_rules_350['calle'].astype(str)\n",
    "datos_personales_rules_350['cd postal']=datos_personales_rules_350['cd postal'].astype(str)"
   ]
  },
  {
   "cell_type": "code",
   "execution_count": 73,
   "id": "18ac9d60",
   "metadata": {},
   "outputs": [],
   "source": [
    "datos_personales_rules_350.drop(\n",
    "    columns=['sexo','fecha nacimiento dt','estado civil']\n",
    ").to_parquet(\n",
    "    yaml_config['centralizado']['folder_processed'] +\n",
    "    'data_to_geo_centralizado_piloto20220801.parquet'\n",
    ")"
   ]
  },
  {
   "cell_type": "code",
   "execution_count": 14,
   "id": "87ac9d96",
   "metadata": {},
   "outputs": [],
   "source": [
    "datos_buro_rules_350 = datos_buro[datos_buro.riesgo_score>350]"
   ]
  },
  {
   "cell_type": "markdown",
   "id": "f9d51c55",
   "metadata": {},
   "source": [
    "# Guarda datos para cargarlos más rápido"
   ]
  },
  {
   "cell_type": "code",
   "execution_count": 75,
   "id": "5ce38e08",
   "metadata": {},
   "outputs": [],
   "source": [
    "datos_buro_rules_350.to_parquet(\n",
    "    yaml_config['centralizado']['folder_processed'] +\n",
    "    'variables_buro_piloto_rules_350_20220801.parquet'\n",
    ")"
   ]
  },
  {
   "cell_type": "markdown",
   "id": "e21f8a08",
   "metadata": {},
   "source": [
    "# Carga del Parquet"
   ]
  },
  {
   "cell_type": "code",
   "execution_count": 15,
   "id": "6b1e5af7",
   "metadata": {},
   "outputs": [],
   "source": [
    "datos_buro_rules_350 = pd.read_parquet(\n",
    "    yaml_config['centralizado']['folder_processed'] +\n",
    "    'variables_buro_piloto_rules_350_20220801.parquet'\n",
    ")"
   ]
  },
  {
   "cell_type": "markdown",
   "id": "081bec67",
   "metadata": {},
   "source": [
    "# Merge con datos externos"
   ]
  },
  {
   "cell_type": "code",
   "execution_count": 16,
   "id": "0a326cbb",
   "metadata": {},
   "outputs": [],
   "source": [
    "X_piloto = datos_buro_rules_350.join(datos_externos)"
   ]
  },
  {
   "cell_type": "markdown",
   "id": "e579eadc",
   "metadata": {},
   "source": [
    "# Fill de variables ordinales\n",
    "\n",
    "Hay que hacer el ajuste de colocar un imputer sobre la variable ordinal, o dejarla como con el valor más grande (o más pequeño según la categorización)"
   ]
  },
  {
   "cell_type": "code",
   "execution_count": 17,
   "id": "fad5e325",
   "metadata": {},
   "outputs": [],
   "source": [
    "X_piloto.ip.fillna(\n",
    "    X_piloto.ip.mode().item(),\n",
    "    inplace=True\n",
    ")"
   ]
  },
  {
   "cell_type": "markdown",
   "id": "503f0217",
   "metadata": {},
   "source": [
    "# Predicción\n",
    "\n",
    "## Carga de Modelo"
   ]
  },
  {
   "cell_type": "code",
   "execution_count": 18,
   "id": "0ee2c0d2",
   "metadata": {},
   "outputs": [],
   "source": [
    "pipeline = jl.load(yaml_config['centralizado']['modelo'])\n",
    "preds = pipeline.predict_proba(X_piloto)[:, 1]\n",
    "thr=yaml_config['centralizado']['trh_model']"
   ]
  },
  {
   "cell_type": "code",
   "execution_count": 19,
   "id": "8919cbd1",
   "metadata": {},
   "outputs": [],
   "source": [
    "preds = pd.DataFrame(\n",
    "    {\"id_cliente\":X_piloto.index,\n",
    "     \"riesgo_score\":X_piloto.riesgo_score,\n",
    "     \"score\":preds\n",
    "    })\n",
    "preds[\"aprobado\"]=np.where(preds.score<thr,\"SI\",\"NO\")"
   ]
  },
  {
   "cell_type": "code",
   "execution_count": 20,
   "id": "6019f759",
   "metadata": {},
   "outputs": [
    {
     "data": {
      "text/plain": [
       "NO    0.506952\n",
       "SI    0.493048\n",
       "Name: aprobado, dtype: float64"
      ]
     },
     "execution_count": 20,
     "metadata": {},
     "output_type": "execute_result"
    }
   ],
   "source": [
    "preds[\"aprobado\"].value_counts(normalize=True)"
   ]
  },
  {
   "cell_type": "markdown",
   "id": "bb4b6dab",
   "metadata": {},
   "source": [
    "# Preds Train"
   ]
  },
  {
   "cell_type": "code",
   "execution_count": 21,
   "id": "1dcfb6aa",
   "metadata": {},
   "outputs": [],
   "source": [
    "X_train=pd.read_parquet(\n",
    "    yaml_config['centralizado']['folder_processed'] + \n",
    "    'train_buro_centralizado_whit_external_without_score_less_350.parquet'\n",
    ")"
   ]
  },
  {
   "cell_type": "code",
   "execution_count": 22,
   "id": "8c6f798c",
   "metadata": {},
   "outputs": [],
   "source": [
    "preds_train = pipeline.predict_proba(X_train)[:, 1]\n",
    "preds_train = pd.DataFrame(\n",
    "    {\"id_cliente\":X_train.index,\n",
    "     \"riesgo_score\":X_train.riesgo_score,\n",
    "     \"score\":preds_train\n",
    "    })\n",
    "preds_train[\"aprobado\"]=np.where(preds_train.score<thr,\"SI\",\"NO\")"
   ]
  },
  {
   "cell_type": "code",
   "execution_count": 23,
   "id": "cae62b5b",
   "metadata": {},
   "outputs": [
    {
     "data": {
      "text/plain": [
       "SI    0.671243\n",
       "NO    0.328757\n",
       "Name: aprobado, dtype: float64"
      ]
     },
     "execution_count": 23,
     "metadata": {},
     "output_type": "execute_result"
    }
   ],
   "source": [
    "preds_train.aprobado.value_counts(normalize=True)"
   ]
  },
  {
   "cell_type": "markdown",
   "id": "9c096b4b",
   "metadata": {},
   "source": [
    "# Valida PSI"
   ]
  },
  {
   "cell_type": "code",
   "execution_count": 24,
   "id": "86655fbe",
   "metadata": {},
   "outputs": [],
   "source": [
    "EPSILON = 1e-6\n",
    "\n",
    "def population_stability_index(\n",
    "    expected_scores: np.ndarray,\n",
    "    actual_scores: np.ndarray,\n",
    "    num_deciles: int = 10,\n",
    "    return_df: bool = False,\n",
    "):\n",
    "    \"\"\"\n",
    "    Calculates the PSI (Population Stability Index).\n",
    "\n",
    "    Arguments:\n",
    "        expected_scores: np.ndarray. Scores of reference, i.e., the\n",
    "                    training scores used to calibrate the model.\n",
    "        actual_scores: np.ndarray. Scores produced by the model\n",
    "                                   on an inference dataset.\n",
    "        num_deciles: int, the number of buckets to calculate\n",
    "                          the differences with.\n",
    "        return_df: bool, whether to return a DataFrame with the details\n",
    "                         of the calculation.\n",
    "\n",
    "    Returns:\n",
    "        psi: float. The PSI value.\n",
    "            There are 3 cases to take into account in order\n",
    "            to interpret this value:\n",
    "\n",
    "            PSI < 0.1 - No change. You can continue\n",
    "                           using existing model.\n",
    "\n",
    "            PSI >= 0.1 but less than 0.2 - Slight change is required.\n",
    "\n",
    "            PSI >= 0.2 - Significant change is required.\n",
    "            Ideally, you should not use this model any more.\n",
    "        Optionally, also returns:\n",
    "            df: pd.DataFrame, a table showing the details of\n",
    "                the calculation\n",
    "    \"\"\"\n",
    "    deciles = (np.arange(0, num_deciles + 1) / num_deciles) * 100\n",
    "\n",
    "    bins = np.percentile(expected_scores, deciles)\n",
    "\n",
    "    expected_percent = np.histogram(expected_scores, bins=bins)[0] / len(\n",
    "        expected_scores\n",
    "    )\n",
    "\n",
    "    actual_percent = np.histogram(actual_scores, bins=bins)[0] / len(actual_scores)\n",
    "\n",
    "    diff = actual_percent - expected_percent\n",
    "\n",
    "    ln = np.log((actual_percent + EPSILON) / (expected_percent + EPSILON))\n",
    "    psi = np.sum(diff * ln)\n",
    "\n",
    "    if return_df:\n",
    "        df = pd.DataFrame(\n",
    "            data={\n",
    "                \"decile\": (deciles[1:] // 10).astype(int),\n",
    "                \"bin\": bins[1:],\n",
    "                \"actual % (A)\": actual_percent,\n",
    "                \"expected % (E)\": expected_percent,\n",
    "                \"A-E\": diff,\n",
    "                \"ln(A/E)\": ln,\n",
    "                \"PSI\": diff * ln,\n",
    "            }\n",
    "        )\n",
    "        return psi, df\n",
    "\n",
    "    return psi"
   ]
  },
  {
   "cell_type": "code",
   "execution_count": 25,
   "id": "34a2abfd",
   "metadata": {},
   "outputs": [
    {
     "data": {
      "text/plain": [
       "0.24373853222859285"
      ]
     },
     "execution_count": 25,
     "metadata": {},
     "output_type": "execute_result"
    }
   ],
   "source": [
    "population_stability_index(preds_train.score, preds.score)"
   ]
  },
  {
   "cell_type": "code",
   "execution_count": 26,
   "id": "7070fc4e",
   "metadata": {},
   "outputs": [
    {
     "name": "stderr",
     "output_type": "stream",
     "text": [
      "/home/danielosorio/.cache/pypoetry/virtualenvs/bna-ar-IixNjU1e-py3.10/lib/python3.10/site-packages/seaborn/distributions.py:2619: FutureWarning: `distplot` is a deprecated function and will be removed in a future version. Please adapt your code to use either `displot` (a figure-level function with similar flexibility) or `histplot` (an axes-level function for histograms).\n",
      "  warnings.warn(msg, FutureWarning)\n",
      "/home/danielosorio/.cache/pypoetry/virtualenvs/bna-ar-IixNjU1e-py3.10/lib/python3.10/site-packages/seaborn/distributions.py:2619: FutureWarning: `distplot` is a deprecated function and will be removed in a future version. Please adapt your code to use either `displot` (a figure-level function with similar flexibility) or `histplot` (an axes-level function for histograms).\n",
      "  warnings.warn(msg, FutureWarning)\n"
     ]
    },
    {
     "data": {
      "text/plain": [
       "Text(0.5, 1.0, 'riesgo_score')"
      ]
     },
     "execution_count": 26,
     "metadata": {},
     "output_type": "execute_result"
    },
    {
     "data": {
      "image/png": "[encoded data removed]",
      "text/plain": [
       "<Figure size 432x288 with 1 Axes>"
      ]
     },
     "metadata": {
      "needs_background": "light"
     },
     "output_type": "display_data"
    }
   ],
   "source": [
    "sns.distplot(X_train['riesgo_score'], color='b')\n",
    "sns.distplot(X_piloto['riesgo_score'], color='r')\n",
    "plt.legend(labels=[\"Train\", \"Nuevo_pilot\"])\n",
    "plt.xlabel(\"\")\n",
    "plt.title('riesgo_score')"
   ]
  },
  {
   "cell_type": "code",
   "execution_count": 27,
   "id": "eeedb25e",
   "metadata": {},
   "outputs": [
    {
     "name": "stderr",
     "output_type": "stream",
     "text": [
      "/home/danielosorio/.cache/pypoetry/virtualenvs/bna-ar-IixNjU1e-py3.10/lib/python3.10/site-packages/seaborn/distributions.py:2619: FutureWarning: `distplot` is a deprecated function and will be removed in a future version. Please adapt your code to use either `displot` (a figure-level function with similar flexibility) or `histplot` (an axes-level function for histograms).\n",
      "  warnings.warn(msg, FutureWarning)\n",
      "/home/danielosorio/.cache/pypoetry/virtualenvs/bna-ar-IixNjU1e-py3.10/lib/python3.10/site-packages/seaborn/distributions.py:2619: FutureWarning: `distplot` is a deprecated function and will be removed in a future version. Please adapt your code to use either `displot` (a figure-level function with similar flexibility) or `histplot` (an axes-level function for histograms).\n",
      "  warnings.warn(msg, FutureWarning)\n"
     ]
    },
    {
     "data": {
      "text/plain": [
       "Text(0.5, 1.0, 'riesgo_score en aprobados')"
      ]
     },
     "execution_count": 27,
     "metadata": {},
     "output_type": "execute_result"
    },
    {
     "data": {
      "image/png": "[encoded data removed]",
      "text/plain": [
       "<Figure size 432x288 with 1 Axes>"
      ]
     },
     "metadata": {
      "needs_background": "light"
     },
     "output_type": "display_data"
    }
   ],
   "source": [
    "sns.distplot(preds['riesgo_score'][preds.aprobado==\"SI\"], color='b')\n",
    "sns.distplot(preds['riesgo_score'][preds.aprobado==\"NO\"], color='r')\n",
    "plt.legend(labels=[\"SI\", \"NO\"])\n",
    "plt.xlabel(\"\")\n",
    "plt.title('riesgo_score en aprobados')"
   ]
  },
  {
   "cell_type": "code",
   "execution_count": null,
   "id": "19024af2",
   "metadata": {},
   "outputs": [],
   "source": [
    "## validar cambio de distribucion de las variables"
   ]
  },
  {
   "cell_type": "code",
   "execution_count": 28,
   "id": "80964ec8",
   "metadata": {},
   "outputs": [],
   "source": [
    "from scipy import stats"
   ]
  },
  {
   "cell_type": "code",
   "execution_count": 29,
   "id": "76b5955c",
   "metadata": {},
   "outputs": [
    {
     "data": {
      "text/plain": [
       "262"
      ]
     },
     "execution_count": 29,
     "metadata": {},
     "output_type": "execute_result"
    }
   ],
   "source": [
    "len(list(X_train.drop(columns=['fecha']).columns))"
   ]
  },
  {
   "cell_type": "code",
   "execution_count": 30,
   "id": "07d3dc04",
   "metadata": {},
   "outputs": [],
   "source": [
    "ks_pvalues = pd.DataFrame(X_train.drop(columns=['fecha','fecha_alta_sistema','ip']).columns,columns=['variables'])"
   ]
  },
  {
   "cell_type": "code",
   "execution_count": 31,
   "id": "b2e3fad9",
   "metadata": {},
   "outputs": [],
   "source": [
    "# Evaluando las distribuciones de X_Train, X_val, X_test\n",
    "\n",
    "ks_train_piloto = []\n",
    "\n",
    "ks_train_piloto_pvalue = []\n",
    "\n",
    "for col in list(X_train.drop(columns=['fecha', 'fecha_alta_sistema', 'ip']).columns): \n",
    "    try:\n",
    "        ks_train_piloto.append(stats.ks_2samp(X_train[col], X_piloto[col])[0])\n",
    "\n",
    "        ks_train_piloto_pvalue.append(stats.ks_2samp(X_train[col], X_piloto[col])[1])\n",
    "    except:\n",
    "        print(col)"
   ]
  },
  {
   "cell_type": "code",
   "execution_count": 32,
   "id": "e98d3007",
   "metadata": {},
   "outputs": [],
   "source": [
    "ks_pvalues.loc[:,'ks_train_piloto'] = ks_train_piloto\n",
    "\n",
    "ks_pvalues.loc[:,'ks_train_piloto_pvalue'] = ks_train_piloto_pvalue\n",
    "\n",
    "ks_pvalues.loc[:,'train_piloto_eq'] = np.where(ks_pvalues['ks_train_piloto_pvalue']<0.1,0,1)"
   ]
  },
  {
   "cell_type": "code",
   "execution_count": 151,
   "id": "7c924d91",
   "metadata": {},
   "outputs": [],
   "source": [
    "ks_pvalues.to_excel(\n",
    "    yaml_config['centralizado']['folder_processed'] +\n",
    "    'KS_Train_piloto20220801.xlsx')"
   ]
  },
  {
   "cell_type": "markdown",
   "id": "ae2e0dc8",
   "metadata": {},
   "source": [
    "# Escogencia de clientes por distancia de gower"
   ]
  },
  {
   "cell_type": "code",
   "execution_count": 10,
   "id": "345cb739",
   "metadata": {},
   "outputs": [],
   "source": [
    "base_d50_noselecc=pd.read_parquet(\n",
    "    yaml_config['centralizado']['folder_processed'] + \n",
    "    'clientes_distantes_piloto_centralizado_20220801.parquet'\n",
    ")"
   ]
  },
  {
   "cell_type": "code",
   "execution_count": 41,
   "id": "1bcf5e1b",
   "metadata": {},
   "outputs": [
    {
     "data": {
      "text/plain": [
       "(0.011761584, 0.2679589)"
      ]
     },
     "execution_count": 41,
     "metadata": {},
     "output_type": "execute_result"
    }
   ],
   "source": [
    "base_d50_noselecc.d50.min(),base_d50_noselecc.d50.max()"
   ]
  },
  {
   "cell_type": "code",
   "execution_count": 34,
   "id": "b10048e4",
   "metadata": {},
   "outputs": [],
   "source": [
    "preds2=preds[~preds.id_cliente.isin(base_d50_noselecc.id_aprob)]"
   ]
  },
  {
   "cell_type": "code",
   "execution_count": 35,
   "id": "6bf66a81",
   "metadata": {},
   "outputs": [
    {
     "data": {
      "text/plain": [
       "SI    0.582274\n",
       "NO    0.417726\n",
       "Name: aprobado, dtype: float64"
      ]
     },
     "execution_count": 35,
     "metadata": {},
     "output_type": "execute_result"
    }
   ],
   "source": [
    "preds2.aprobado.value_counts(normalize=True)"
   ]
  },
  {
   "cell_type": "code",
   "execution_count": 36,
   "id": "04924ea9",
   "metadata": {},
   "outputs": [
    {
     "data": {
      "text/plain": [
       "0.10535741979083728"
      ]
     },
     "execution_count": 36,
     "metadata": {},
     "output_type": "execute_result"
    }
   ],
   "source": [
    "population_stability_index(preds_train.score, preds2.score)"
   ]
  },
  {
   "cell_type": "code",
   "execution_count": 37,
   "id": "b3066c17",
   "metadata": {},
   "outputs": [
    {
     "name": "stderr",
     "output_type": "stream",
     "text": [
      "/home/danielosorio/.cache/pypoetry/virtualenvs/bna-ar-IixNjU1e-py3.10/lib/python3.10/site-packages/seaborn/distributions.py:2619: FutureWarning: `distplot` is a deprecated function and will be removed in a future version. Please adapt your code to use either `displot` (a figure-level function with similar flexibility) or `histplot` (an axes-level function for histograms).\n",
      "  warnings.warn(msg, FutureWarning)\n",
      "/home/danielosorio/.cache/pypoetry/virtualenvs/bna-ar-IixNjU1e-py3.10/lib/python3.10/site-packages/seaborn/distributions.py:2619: FutureWarning: `distplot` is a deprecated function and will be removed in a future version. Please adapt your code to use either `displot` (a figure-level function with similar flexibility) or `histplot` (an axes-level function for histograms).\n",
      "  warnings.warn(msg, FutureWarning)\n"
     ]
    },
    {
     "data": {
      "text/plain": [
       "Text(0.5, 1.0, 'riesgo_score')"
      ]
     },
     "execution_count": 37,
     "metadata": {},
     "output_type": "execute_result"
    },
    {
     "data": {
      "image/png": "[encoded data removed]",
      "text/plain": [
       "<Figure size 432x288 with 1 Axes>"
      ]
     },
     "metadata": {
      "needs_background": "light"
     },
     "output_type": "display_data"
    }
   ],
   "source": [
    "sns.distplot(preds_train['riesgo_score'], color='b')\n",
    "sns.distplot(preds2['riesgo_score'], color='r')\n",
    "plt.legend(labels=[\"Train\", \"Nuevo_pilot\"])\n",
    "plt.xlabel(\"\")\n",
    "plt.title('riesgo_score')"
   ]
  },
  {
   "cell_type": "code",
   "execution_count": 38,
   "id": "c38eaa05",
   "metadata": {},
   "outputs": [
    {
     "name": "stderr",
     "output_type": "stream",
     "text": [
      "/home/danielosorio/.cache/pypoetry/virtualenvs/bna-ar-IixNjU1e-py3.10/lib/python3.10/site-packages/seaborn/distributions.py:2619: FutureWarning: `distplot` is a deprecated function and will be removed in a future version. Please adapt your code to use either `displot` (a figure-level function with similar flexibility) or `histplot` (an axes-level function for histograms).\n",
      "  warnings.warn(msg, FutureWarning)\n",
      "/home/danielosorio/.cache/pypoetry/virtualenvs/bna-ar-IixNjU1e-py3.10/lib/python3.10/site-packages/seaborn/distributions.py:2619: FutureWarning: `distplot` is a deprecated function and will be removed in a future version. Please adapt your code to use either `displot` (a figure-level function with similar flexibility) or `histplot` (an axes-level function for histograms).\n",
      "  warnings.warn(msg, FutureWarning)\n"
     ]
    },
    {
     "data": {
      "text/plain": [
       "Text(0.5, 1.0, 'riesgo_score en aprobados')"
      ]
     },
     "execution_count": 38,
     "metadata": {},
     "output_type": "execute_result"
    },
    {
     "data": {
      "image/png": "[encoded data removed]",
      "text/plain": [
       "<Figure size 432x288 with 1 Axes>"
      ]
     },
     "metadata": {
      "needs_background": "light"
     },
     "output_type": "display_data"
    }
   ],
   "source": [
    "sns.distplot(preds2['riesgo_score'][preds2.aprobado==\"SI\"], color='b')\n",
    "sns.distplot(preds2['riesgo_score'][preds2.aprobado==\"NO\"], color='r')\n",
    "plt.legend(labels=[\"SI\", \"NO\"])\n",
    "plt.xlabel(\"\")\n",
    "plt.title('riesgo_score en aprobados')"
   ]
  },
  {
   "cell_type": "markdown",
   "id": "fd8b103b",
   "metadata": {},
   "source": [
    "## Exportación"
   ]
  },
  {
   "cell_type": "code",
   "execution_count": 46,
   "id": "56f36b6b",
   "metadata": {},
   "outputs": [],
   "source": [
    "preds2.drop(columns=['riesgo_score']).sort_values('score').to_excel(\n",
    "    yaml_config['centralizado']['folder_final'] +\n",
    "    'predicciones_piloto_20220801.xlsx',\n",
    "    index=False\n",
    ")"
   ]
  },
  {
   "cell_type": "code",
   "execution_count": null,
   "id": "32000d9b",
   "metadata": {},
   "outputs": [],
   "source": []
  }
 ],
 "metadata": {
  "kernelspec": {
   "display_name": "Python 3 (ipykernel)",
   "language": "python",
   "name": "python3"
  },
  "language_info": {
   "codemirror_mode": {
    "name": "ipython",
    "version": 3
   },
   "file_extension": ".py",
   "mimetype": "text/x-python",
   "name": "python",
   "nbconvert_exporter": "python",
   "pygments_lexer": "ipython3",
   "version": "3.10.4"
  },
  "toc": {
   "base_numbering": 1,
   "nav_menu": {},
   "number_sections": true,
   "sideBar": true,
   "skip_h1_title": false,
   "title_cell": "Table of Contents",
   "title_sidebar": "Contents",
   "toc_cell": false,
   "toc_position": {},
   "toc_section_display": true,
   "toc_window_display": true
  }
 },
 "nbformat": 4,
 "nbformat_minor": 5
}
