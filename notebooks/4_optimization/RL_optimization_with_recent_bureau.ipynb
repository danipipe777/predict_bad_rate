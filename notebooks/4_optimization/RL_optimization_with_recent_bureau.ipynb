{
 "cells": [
  {
   "cell_type": "markdown",
   "id": "43f4e19b",
   "metadata": {},
   "source": [
    "# Set root"
   ]
  },
  {
   "cell_type": "code",
   "execution_count": 1,
   "id": "f5415967",
   "metadata": {},
   "outputs": [],
   "source": [
    "import os\n",
    "import re\n",
    "\n",
    "root = re.findall('.*predict_bad_rate', os.getcwd())[0]\n",
    "os.chdir(root)"
   ]
  },
  {
   "cell_type": "markdown",
   "id": "6157d2e2",
   "metadata": {},
   "source": [
    "# Leer YAML"
   ]
  },
  {
   "cell_type": "code",
   "execution_count": 2,
   "id": "e0f26c41",
   "metadata": {},
   "outputs": [],
   "source": [
    "import yaml\n",
    "\n",
    "with open('params.yaml', 'r') as file:\n",
    "    yaml_config = yaml.safe_load(file)"
   ]
  },
  {
   "cell_type": "markdown",
   "id": "a98df6c6",
   "metadata": {},
   "source": [
    "## XGBoost Optimization\n",
    "\n",
    "Notebook to optimize an XGBoost model"
   ]
  },
  {
   "cell_type": "code",
   "execution_count": 7,
   "id": "ab2a6b4c",
   "metadata": {},
   "outputs": [
    {
     "name": "stdout",
     "output_type": "stream",
     "text": [
      "env: WANDB_SILENT=True\n",
      "Create sweep with ID: kr114moy\n",
      "Sweep URL: https://wandb.ai/danipipe777/project_ICESI_I/sweeps/kr114moy\n"
     ]
    }
   ],
   "source": [
    "%env WANDB_SILENT=True\n",
    "import wandb\n",
    "\n",
    "sweep_config = {\n",
    "    'name': 'RL_centralizado',\n",
    "    'method': 'bayes',\n",
    "    'metric':{\n",
    "        'name':'mean_average_precision_val',\n",
    "        'goal':'maximize'\n",
    "    },\n",
    "    'parameters':{\n",
    "        'max_iter':{\n",
    "            'min':100,\n",
    "            'max':1000\n",
    "        },\n",
    "        'C':{\n",
    "            'min':1e-4,\n",
    "            'max':1e+2\n",
    "        },\n",
    "        'penalty':{\n",
    "            'values':['l1', 'l2']\n",
    "        },\n",
    "        'solver':{\n",
    "            'values':['lbfgs', 'liblinear','saga']\n",
    "        },\n",
    "        'scaler': {\n",
    "            'values': ['standard', 'robust']\n",
    "        },\n",
    "        'imputer': {\n",
    "            'values': ['simple', 'knn']\n",
    "        },\n",
    "        'imputer_strategy': {\n",
    "            'values': ['mean', 'median']\n",
    "        },\n",
    "        'knn_imputer_k':{\n",
    "            'min':3,\n",
    "            'max':15\n",
    "        },\n",
    "        'pca_components':{\n",
    "            'min':2,\n",
    "            'max':15\n",
    "        },\n",
    "        'variance_threshold':{\n",
    "            'min':0.0,\n",
    "            'max':0.1\n",
    "        }\n",
    "    }\n",
    "}\n",
    "\n",
    "sweep_id = wandb.sweep(sweep_config, entity='danipipe777', project='project_ICESI_I')"
   ]
  },
  {
   "cell_type": "code",
   "execution_count": 24,
   "id": "db6b1ffb",
   "metadata": {},
   "outputs": [],
   "source": [
    "import sys\n",
    "sys.path.append('../../')"
   ]
  },
  {
   "cell_type": "code",
   "execution_count": 31,
   "id": "3328eaa9",
   "metadata": {},
   "outputs": [],
   "source": [
    "import package.bna.metrics.ks"
   ]
  },
  {
   "cell_type": "code",
   "execution_count": 32,
   "id": "74843bec",
   "metadata": {},
   "outputs": [],
   "source": [
    "from sklearn.linear_model import LogisticRegression\n",
    "from sklearn.compose import ColumnTransformer\n",
    "from sklearn.feature_selection import VarianceThreshold\n",
    "from sklearn.preprocessing import OneHotEncoder\n",
    "from sklearn.preprocessing import OrdinalEncoder\n",
    "from sklearn.model_selection import train_test_split\n",
    "from sklearn.model_selection import cross_validate\n",
    "from sklearn.pipeline import Pipeline, make_pipeline\n",
    "from sklearn.preprocessing import StandardScaler\n",
    "from sklearn.preprocessing import RobustScaler\n",
    "from sklearn.impute import SimpleImputer\n",
    "from sklearn.impute import KNNImputer\n",
    "from sklearn.metrics import make_scorer\n",
    "import package.bna.metrics.ks as ks_metrics\n",
    "import sklearn.metrics as skm\n",
    "from copy import deepcopy\n",
    "from time import time\n",
    "from importlib import reload\n",
    "import os\n",
    "import numpy as np\n",
    "import pandas as pd\n",
    "import joblib as jl\n",
    "import pickle as pickle\n"
   ]
  },
  {
   "cell_type": "markdown",
   "id": "b175fc2f",
   "metadata": {},
   "source": [
    "## Carga de Datos"
   ]
  },
  {
   "cell_type": "code",
   "execution_count": 10,
   "id": "e2e1d708",
   "metadata": {},
   "outputs": [],
   "source": [
    "X = pd.read_parquet(yaml_config['centralizado']['folder_processed']+\n",
    "                    'buro_centralizado_from_data_preparation_with_external_variables.parquet'\n",
    ")\n",
    "X.sort_values('fecha', inplace=True)\n",
    "\n",
    "y = pd.read_parquet(yaml_config['centralizado']['folder_processed']+\n",
    "                    'maxima_mora_alcanzada_buro_centralizado_with_recent_bureau.parquet'\n",
    ").squeeze()\n",
    "\n",
    "y = y.loc[X.index]\n",
    "y = y.ge(60).astype(int)"
   ]
  },
  {
   "cell_type": "markdown",
   "id": "c1ca1c0c",
   "metadata": {},
   "source": [
    "## Definición de tipos de Variables\n",
    "\n",
    "Variables que sean más del 70% nulas no serán consideradas inicialmente. También se definen qué variables son categóricas, ordinales y qué variables son numerical.\n",
    "\n",
    "La única variable que no entra dentro de estas categorías es `fecha` fecha de consulta de buró de crédito."
   ]
  },
  {
   "cell_type": "code",
   "execution_count": 16,
   "id": "96b1b254",
   "metadata": {},
   "outputs": [],
   "source": [
    "porcetaje_de_nulidad = (\n",
    "    X.isnull()\n",
    "    .apply(lambda s: s.value_counts(True)).T\n",
    ") \n",
    "\n",
    "porcetaje_de_nulidad.columns = ['not_null', 'null']\n",
    "variables_muy_nulas = porcetaje_de_nulidad.query('null > 0.5').index"
   ]
  },
  {
   "cell_type": "markdown",
   "id": "ebfcb22f",
   "metadata": {},
   "source": [
    "# Separación de Variables según tipo de datos"
   ]
  },
  {
   "cell_type": "code",
   "execution_count": 18,
   "id": "cb8a58df",
   "metadata": {},
   "outputs": [],
   "source": [
    "variables_categoricas_y_ordinales = [\n",
    "    'riesgo_6', 'riesgo_12', 'ip', 'riesgo_12_bis',\n",
    "    'peor_sit_bcra_ult', 'peor_sit_bureau_ult', 'sit_irregular'\n",
    "]\n",
    "\n",
    "X[variables_categoricas_y_ordinales] = \\\n",
    "    X[variables_categoricas_y_ordinales].astype('category')\n",
    "\n",
    "ordinales = pd.Index(['ip'])\n",
    "categoricas = X.select_dtypes('category').columns\n",
    "categoricas = categoricas.delete(\n",
    "    categoricas.isin(ordinales) |\n",
    "    categoricas.isin(variables_muy_nulas)|\n",
    "    categoricas.isin(['h3_id'])\n",
    ")\n",
    "\n",
    "numericas = X.select_dtypes('number').columns\n",
    "numericas = numericas.delete(\n",
    "    numericas.isin(variables_muy_nulas)\n",
    ")"
   ]
  },
  {
   "cell_type": "markdown",
   "id": "3b8b445a",
   "metadata": {},
   "source": [
    "## Split de los datos"
   ]
  },
  {
   "cell_type": "code",
   "execution_count": 19,
   "id": "0513bc76",
   "metadata": {},
   "outputs": [],
   "source": [
    "X_train, X_test, y_train, y_test = train_test_split(\n",
    "    X, y, random_state=42, shuffle=False, test_size=0.3\n",
    ")"
   ]
  },
  {
   "cell_type": "markdown",
   "id": "81b3c2e0",
   "metadata": {},
   "source": [
    "## Definición de configuraciones del pipeline"
   ]
  },
  {
   "cell_type": "code",
   "execution_count": 33,
   "id": "7db74d35",
   "metadata": {},
   "outputs": [],
   "source": [
    "config_ordinal = dict(\n",
    "    handle_unknown='use_encoded_value',\n",
    "    unknown_value=np.nan\n",
    ")\n",
    "\n",
    "config_onehot = dict(\n",
    "    handle_unknown='ignore'\n",
    ")\n",
    "\n",
    "ks_scorer = make_scorer(\n",
    "    ks_metrics.ks_score,\n",
    "    needs_proba=True,\n",
    "    greater_is_better=True\n",
    ")\n",
    "\n",
    "scoring = {\n",
    "    'roc_auc':'roc_auc',\n",
    "    'balanced_accuracy':'balanced_accuracy',\n",
    "    'average_precision':'average_precision',\n",
    "    'ks':ks_scorer\n",
    "}"
   ]
  },
  {
   "cell_type": "markdown",
   "id": "86de5218",
   "metadata": {},
   "source": [
    "## Barrido de híperparámetros"
   ]
  },
  {
   "cell_type": "code",
   "execution_count": null,
   "id": "4748dfe3",
   "metadata": {},
   "outputs": [
    {
     "name": "stderr",
     "output_type": "stream",
     "text": [
      "C:\\Users\\danie\\anaconda3\\lib\\site-packages\\sklearn\\linear_model\\_sag.py:350: ConvergenceWarning: The max_iter was reached which means the coef_ did not converge\n",
      "  warnings.warn(\n",
      "C:\\Users\\danie\\anaconda3\\lib\\site-packages\\sklearn\\svm\\_base.py:1244: ConvergenceWarning: Liblinear failed to converge, increase the number of iterations.\n",
      "  warnings.warn(\n",
      "C:\\Users\\danie\\anaconda3\\lib\\site-packages\\sklearn\\linear_model\\_sag.py:350: ConvergenceWarning: The max_iter was reached which means the coef_ did not converge\n",
      "  warnings.warn(\n",
      "C:\\Users\\danie\\anaconda3\\lib\\site-packages\\sklearn\\linear_model\\_sag.py:350: ConvergenceWarning: The max_iter was reached which means the coef_ did not converge\n",
      "  warnings.warn(\n",
      "C:\\Users\\danie\\anaconda3\\lib\\site-packages\\sklearn\\linear_model\\_sag.py:350: ConvergenceWarning: The max_iter was reached which means the coef_ did not converge\n",
      "  warnings.warn(\n",
      "C:\\Users\\danie\\anaconda3\\lib\\site-packages\\sklearn\\linear_model\\_sag.py:350: ConvergenceWarning: The max_iter was reached which means the coef_ did not converge\n",
      "  warnings.warn(\n",
      "C:\\Users\\danie\\anaconda3\\lib\\site-packages\\sklearn\\linear_model\\_sag.py:350: ConvergenceWarning: The max_iter was reached which means the coef_ did not converge\n",
      "  warnings.warn(\n",
      "C:\\Users\\danie\\anaconda3\\lib\\site-packages\\sklearn\\linear_model\\_sag.py:350: ConvergenceWarning: The max_iter was reached which means the coef_ did not converge\n",
      "  warnings.warn(\n",
      "C:\\Users\\danie\\anaconda3\\lib\\site-packages\\joblib\\externals\\loky\\process_executor.py:700: UserWarning: A worker stopped while some jobs were given to the executor. This can be caused by a too short worker timeout or by a memory leak.\n",
      "  warnings.warn(\n",
      "C:\\Users\\danie\\anaconda3\\lib\\site-packages\\sklearn\\linear_model\\_sag.py:350: ConvergenceWarning: The max_iter was reached which means the coef_ did not converge\n",
      "  warnings.warn(\n",
      "C:\\Users\\danie\\anaconda3\\lib\\site-packages\\sklearn\\linear_model\\_sag.py:350: ConvergenceWarning: The max_iter was reached which means the coef_ did not converge\n",
      "  warnings.warn(\n",
      "C:\\Users\\danie\\anaconda3\\lib\\site-packages\\sklearn\\linear_model\\_sag.py:350: ConvergenceWarning: The max_iter was reached which means the coef_ did not converge\n",
      "  warnings.warn(\n",
      "C:\\Users\\danie\\anaconda3\\lib\\site-packages\\sklearn\\linear_model\\_sag.py:350: ConvergenceWarning: The max_iter was reached which means the coef_ did not converge\n",
      "  warnings.warn(\n",
      "C:\\Users\\danie\\anaconda3\\lib\\site-packages\\sklearn\\linear_model\\_logistic.py:458: ConvergenceWarning: lbfgs failed to converge (status=1):\n",
      "STOP: TOTAL NO. of ITERATIONS REACHED LIMIT.\n",
      "\n",
      "Increase the number of iterations (max_iter) or scale the data as shown in:\n",
      "    https://scikit-learn.org/stable/modules/preprocessing.html\n",
      "Please also refer to the documentation for alternative solver options:\n",
      "    https://scikit-learn.org/stable/modules/linear_model.html#logistic-regression\n",
      "  n_iter_i = _check_optimize_result(\n",
      "C:\\Users\\danie\\anaconda3\\lib\\site-packages\\sklearn\\linear_model\\_sag.py:350: ConvergenceWarning: The max_iter was reached which means the coef_ did not converge\n",
      "  warnings.warn(\n",
      "C:\\Users\\danie\\anaconda3\\lib\\site-packages\\sklearn\\linear_model\\_sag.py:350: ConvergenceWarning: The max_iter was reached which means the coef_ did not converge\n",
      "  warnings.warn(\n",
      "C:\\Users\\danie\\anaconda3\\lib\\site-packages\\sklearn\\linear_model\\_sag.py:350: ConvergenceWarning: The max_iter was reached which means the coef_ did not converge\n",
      "  warnings.warn(\n",
      "C:\\Users\\danie\\anaconda3\\lib\\site-packages\\sklearn\\linear_model\\_sag.py:350: ConvergenceWarning: The max_iter was reached which means the coef_ did not converge\n",
      "  warnings.warn(\n",
      "C:\\Users\\danie\\anaconda3\\lib\\site-packages\\sklearn\\linear_model\\_logistic.py:458: ConvergenceWarning: lbfgs failed to converge (status=1):\n",
      "STOP: TOTAL NO. of ITERATIONS REACHED LIMIT.\n",
      "\n",
      "Increase the number of iterations (max_iter) or scale the data as shown in:\n",
      "    https://scikit-learn.org/stable/modules/preprocessing.html\n",
      "Please also refer to the documentation for alternative solver options:\n",
      "    https://scikit-learn.org/stable/modules/linear_model.html#logistic-regression\n",
      "  n_iter_i = _check_optimize_result(\n"
     ]
    },
    {
     "data": {
      "application/vnd.jupyter.widget-view+json": {
       "model_id": "ea77139bfebd4d3791874610e1fab5e3",
       "version_major": 2,
       "version_minor": 0
      },
      "text/plain": [
       "VBox(children=(Label(value='Waiting for wandb.init()...\\r'), FloatProgress(value=0.016916666666899498, max=1.0…"
      ]
     },
     "metadata": {},
     "output_type": "display_data"
    },
    {
     "name": "stderr",
     "output_type": "stream",
     "text": [
      "C:\\Users\\danie\\anaconda3\\lib\\site-packages\\sklearn\\linear_model\\_sag.py:350: ConvergenceWarning: The max_iter was reached which means the coef_ did not converge\n",
      "  warnings.warn(\n",
      "C:\\Users\\danie\\anaconda3\\lib\\site-packages\\sklearn\\linear_model\\_sag.py:350: ConvergenceWarning: The max_iter was reached which means the coef_ did not converge\n",
      "  warnings.warn(\n",
      "C:\\Users\\danie\\anaconda3\\lib\\site-packages\\sklearn\\linear_model\\_sag.py:350: ConvergenceWarning: The max_iter was reached which means the coef_ did not converge\n",
      "  warnings.warn(\n",
      "C:\\Users\\danie\\anaconda3\\lib\\site-packages\\joblib\\externals\\loky\\process_executor.py:700: UserWarning: A worker stopped while some jobs were given to the executor. This can be caused by a too short worker timeout or by a memory leak.\n",
      "  warnings.warn(\n",
      "C:\\Users\\danie\\anaconda3\\lib\\site-packages\\sklearn\\linear_model\\_sag.py:350: ConvergenceWarning: The max_iter was reached which means the coef_ did not converge\n",
      "  warnings.warn(\n",
      "C:\\Users\\danie\\anaconda3\\lib\\site-packages\\sklearn\\linear_model\\_sag.py:350: ConvergenceWarning: The max_iter was reached which means the coef_ did not converge\n",
      "  warnings.warn(\n",
      "C:\\Users\\danie\\anaconda3\\lib\\site-packages\\sklearn\\linear_model\\_sag.py:350: ConvergenceWarning: The max_iter was reached which means the coef_ did not converge\n",
      "  warnings.warn(\n",
      "C:\\Users\\danie\\anaconda3\\lib\\site-packages\\sklearn\\linear_model\\_sag.py:350: ConvergenceWarning: The max_iter was reached which means the coef_ did not converge\n",
      "  warnings.warn(\n",
      "C:\\Users\\danie\\anaconda3\\lib\\site-packages\\sklearn\\linear_model\\_sag.py:350: ConvergenceWarning: The max_iter was reached which means the coef_ did not converge\n",
      "  warnings.warn(\n",
      "C:\\Users\\danie\\anaconda3\\lib\\site-packages\\sklearn\\linear_model\\_sag.py:350: ConvergenceWarning: The max_iter was reached which means the coef_ did not converge\n",
      "  warnings.warn(\n"
     ]
    },
    {
     "data": {
      "application/vnd.jupyter.widget-view+json": {
       "model_id": "c278601a14e9452bad8a5af03804cd73",
       "version_major": 2,
       "version_minor": 0
      },
      "text/plain": [
       "VBox(children=(Label(value='Waiting for wandb.init()...\\r'), FloatProgress(value=0.016916666666899498, max=1.0…"
      ]
     },
     "metadata": {},
     "output_type": "display_data"
    },
    {
     "name": "stderr",
     "output_type": "stream",
     "text": [
      "C:\\Users\\danie\\anaconda3\\lib\\site-packages\\sklearn\\linear_model\\_sag.py:350: ConvergenceWarning: The max_iter was reached which means the coef_ did not converge\n",
      "  warnings.warn(\n",
      "C:\\Users\\danie\\anaconda3\\lib\\site-packages\\sklearn\\linear_model\\_sag.py:350: ConvergenceWarning: The max_iter was reached which means the coef_ did not converge\n",
      "  warnings.warn(\n",
      "C:\\Users\\danie\\anaconda3\\lib\\site-packages\\sklearn\\linear_model\\_sag.py:350: ConvergenceWarning: The max_iter was reached which means the coef_ did not converge\n",
      "  warnings.warn(\n",
      "C:\\Users\\danie\\anaconda3\\lib\\site-packages\\sklearn\\linear_model\\_sag.py:350: ConvergenceWarning: The max_iter was reached which means the coef_ did not converge\n",
      "  warnings.warn(\n"
     ]
    },
    {
     "data": {
      "application/vnd.jupyter.widget-view+json": {
       "model_id": "47799927ae864aac82f001e7c1c88074",
       "version_major": 2,
       "version_minor": 0
      },
      "text/plain": [
       "VBox(children=(Label(value='Waiting for wandb.init()...\\r'), FloatProgress(value=0.016666666666666666, max=1.0…"
      ]
     },
     "metadata": {},
     "output_type": "display_data"
    },
    {
     "name": "stderr",
     "output_type": "stream",
     "text": [
      "C:\\Users\\danie\\anaconda3\\lib\\site-packages\\sklearn\\linear_model\\_sag.py:350: ConvergenceWarning: The max_iter was reached which means the coef_ did not converge\n",
      "  warnings.warn(\n",
      "C:\\Users\\danie\\anaconda3\\lib\\site-packages\\sklearn\\linear_model\\_sag.py:350: ConvergenceWarning: The max_iter was reached which means the coef_ did not converge\n",
      "  warnings.warn(\n",
      "C:\\Users\\danie\\anaconda3\\lib\\site-packages\\sklearn\\linear_model\\_sag.py:350: ConvergenceWarning: The max_iter was reached which means the coef_ did not converge\n",
      "  warnings.warn(\n",
      "C:\\Users\\danie\\anaconda3\\lib\\site-packages\\sklearn\\linear_model\\_sag.py:350: ConvergenceWarning: The max_iter was reached which means the coef_ did not converge\n",
      "  warnings.warn(\n",
      "C:\\Users\\danie\\anaconda3\\lib\\site-packages\\sklearn\\linear_model\\_sag.py:350: ConvergenceWarning: The max_iter was reached which means the coef_ did not converge\n",
      "  warnings.warn(\n",
      "C:\\Users\\danie\\anaconda3\\lib\\site-packages\\sklearn\\linear_model\\_sag.py:350: ConvergenceWarning: The max_iter was reached which means the coef_ did not converge\n",
      "  warnings.warn(\n",
      "C:\\Users\\danie\\anaconda3\\lib\\site-packages\\sklearn\\linear_model\\_sag.py:350: ConvergenceWarning: The max_iter was reached which means the coef_ did not converge\n",
      "  warnings.warn(\n",
      "C:\\Users\\danie\\anaconda3\\lib\\site-packages\\sklearn\\linear_model\\_sag.py:350: ConvergenceWarning: The max_iter was reached which means the coef_ did not converge\n",
      "  warnings.warn(\n",
      "C:\\Users\\danie\\anaconda3\\lib\\site-packages\\sklearn\\linear_model\\_sag.py:350: ConvergenceWarning: The max_iter was reached which means the coef_ did not converge\n",
      "  warnings.warn(\n",
      "C:\\Users\\danie\\anaconda3\\lib\\site-packages\\sklearn\\linear_model\\_sag.py:350: ConvergenceWarning: The max_iter was reached which means the coef_ did not converge\n",
      "  warnings.warn(\n",
      "C:\\Users\\danie\\anaconda3\\lib\\site-packages\\sklearn\\linear_model\\_sag.py:350: ConvergenceWarning: The max_iter was reached which means the coef_ did not converge\n",
      "  warnings.warn(\n",
      "C:\\Users\\danie\\anaconda3\\lib\\site-packages\\sklearn\\linear_model\\_sag.py:350: ConvergenceWarning: The max_iter was reached which means the coef_ did not converge\n",
      "  warnings.warn(\n"
     ]
    },
    {
     "data": {
      "application/vnd.jupyter.widget-view+json": {
       "model_id": "f36527c6a0db41399f8b8ef183bceed5",
       "version_major": 2,
       "version_minor": 0
      },
      "text/plain": [
       "VBox(children=(Label(value='Waiting for wandb.init()...\\r'), FloatProgress(value=0.016916666666899498, max=1.0…"
      ]
     },
     "metadata": {},
     "output_type": "display_data"
    },
    {
     "name": "stderr",
     "output_type": "stream",
     "text": [
      "C:\\Users\\danie\\anaconda3\\lib\\site-packages\\sklearn\\linear_model\\_sag.py:350: ConvergenceWarning: The max_iter was reached which means the coef_ did not converge\n",
      "  warnings.warn(\n",
      "C:\\Users\\danie\\anaconda3\\lib\\site-packages\\sklearn\\linear_model\\_sag.py:350: ConvergenceWarning: The max_iter was reached which means the coef_ did not converge\n",
      "  warnings.warn(\n"
     ]
    },
    {
     "data": {
      "application/vnd.jupyter.widget-view+json": {
       "model_id": "69e8864258fc4258829e2a4f45386b3d",
       "version_major": 2,
       "version_minor": 0
      },
      "text/plain": [
       "VBox(children=(Label(value='Waiting for wandb.init()...\\r'), FloatProgress(value=0.016916666666899498, max=1.0…"
      ]
     },
     "metadata": {},
     "output_type": "display_data"
    },
    {
     "name": "stderr",
     "output_type": "stream",
     "text": [
      "C:\\Users\\danie\\anaconda3\\lib\\site-packages\\sklearn\\linear_model\\_sag.py:350: ConvergenceWarning: The max_iter was reached which means the coef_ did not converge\n",
      "  warnings.warn(\n",
      "C:\\Users\\danie\\anaconda3\\lib\\site-packages\\sklearn\\linear_model\\_sag.py:350: ConvergenceWarning: The max_iter was reached which means the coef_ did not converge\n",
      "  warnings.warn(\n",
      "C:\\Users\\danie\\anaconda3\\lib\\site-packages\\sklearn\\linear_model\\_logistic.py:458: ConvergenceWarning: lbfgs failed to converge (status=1):\n",
      "STOP: TOTAL NO. of ITERATIONS REACHED LIMIT.\n",
      "\n",
      "Increase the number of iterations (max_iter) or scale the data as shown in:\n",
      "    https://scikit-learn.org/stable/modules/preprocessing.html\n",
      "Please also refer to the documentation for alternative solver options:\n",
      "    https://scikit-learn.org/stable/modules/linear_model.html#logistic-regression\n",
      "  n_iter_i = _check_optimize_result(\n",
      "C:\\Users\\danie\\anaconda3\\lib\\site-packages\\sklearn\\linear_model\\_sag.py:350: ConvergenceWarning: The max_iter was reached which means the coef_ did not converge\n",
      "  warnings.warn(\n"
     ]
    },
    {
     "data": {
      "application/vnd.jupyter.widget-view+json": {
       "model_id": "64dbab9b2a414b05a3b9dcfb3e073624",
       "version_major": 2,
       "version_minor": 0
      },
      "text/plain": [
       "VBox(children=(Label(value='Waiting for wandb.init()...\\r'), FloatProgress(value=0.017183333332650364, max=1.0…"
      ]
     },
     "metadata": {},
     "output_type": "display_data"
    },
    {
     "name": "stderr",
     "output_type": "stream",
     "text": [
      "C:\\Users\\danie\\anaconda3\\lib\\site-packages\\sklearn\\linear_model\\_sag.py:350: ConvergenceWarning: The max_iter was reached which means the coef_ did not converge\n",
      "  warnings.warn(\n",
      "C:\\Users\\danie\\anaconda3\\lib\\site-packages\\sklearn\\linear_model\\_sag.py:350: ConvergenceWarning: The max_iter was reached which means the coef_ did not converge\n",
      "  warnings.warn(\n",
      "C:\\Users\\danie\\anaconda3\\lib\\site-packages\\sklearn\\linear_model\\_sag.py:350: ConvergenceWarning: The max_iter was reached which means the coef_ did not converge\n",
      "  warnings.warn(\n",
      "C:\\Users\\danie\\anaconda3\\lib\\site-packages\\sklearn\\linear_model\\_sag.py:350: ConvergenceWarning: The max_iter was reached which means the coef_ did not converge\n",
      "  warnings.warn(\n",
      "C:\\Users\\danie\\anaconda3\\lib\\site-packages\\sklearn\\linear_model\\_sag.py:350: ConvergenceWarning: The max_iter was reached which means the coef_ did not converge\n",
      "  warnings.warn(\n",
      "C:\\Users\\danie\\anaconda3\\lib\\site-packages\\sklearn\\linear_model\\_sag.py:350: ConvergenceWarning: The max_iter was reached which means the coef_ did not converge\n",
      "  warnings.warn(\n",
      "C:\\Users\\danie\\anaconda3\\lib\\site-packages\\sklearn\\linear_model\\_logistic.py:458: ConvergenceWarning: lbfgs failed to converge (status=1):\n",
      "STOP: TOTAL NO. of ITERATIONS REACHED LIMIT.\n",
      "\n",
      "Increase the number of iterations (max_iter) or scale the data as shown in:\n",
      "    https://scikit-learn.org/stable/modules/preprocessing.html\n",
      "Please also refer to the documentation for alternative solver options:\n",
      "    https://scikit-learn.org/stable/modules/linear_model.html#logistic-regression\n",
      "  n_iter_i = _check_optimize_result(\n"
     ]
    },
    {
     "data": {
      "application/vnd.jupyter.widget-view+json": {
       "model_id": "7f343c024b604477b4810bcb43079767",
       "version_major": 2,
       "version_minor": 0
      },
      "text/plain": [
       "VBox(children=(Label(value='Waiting for wandb.init()...\\r'), FloatProgress(value=0.016666666666666666, max=1.0…"
      ]
     },
     "metadata": {},
     "output_type": "display_data"
    },
    {
     "name": "stderr",
     "output_type": "stream",
     "text": [
      "C:\\Users\\danie\\anaconda3\\lib\\site-packages\\sklearn\\linear_model\\_sag.py:350: ConvergenceWarning: The max_iter was reached which means the coef_ did not converge\n",
      "  warnings.warn(\n",
      "C:\\Users\\danie\\anaconda3\\lib\\site-packages\\sklearn\\linear_model\\_sag.py:350: ConvergenceWarning: The max_iter was reached which means the coef_ did not converge\n",
      "  warnings.warn(\n",
      "C:\\Users\\danie\\anaconda3\\lib\\site-packages\\sklearn\\linear_model\\_sag.py:350: ConvergenceWarning: The max_iter was reached which means the coef_ did not converge\n",
      "  warnings.warn(\n",
      "C:\\Users\\danie\\anaconda3\\lib\\site-packages\\sklearn\\linear_model\\_sag.py:350: ConvergenceWarning: The max_iter was reached which means the coef_ did not converge\n",
      "  warnings.warn(\n",
      "C:\\Users\\danie\\anaconda3\\lib\\site-packages\\sklearn\\linear_model\\_sag.py:350: ConvergenceWarning: The max_iter was reached which means the coef_ did not converge\n",
      "  warnings.warn(\n",
      "C:\\Users\\danie\\anaconda3\\lib\\site-packages\\sklearn\\linear_model\\_sag.py:350: ConvergenceWarning: The max_iter was reached which means the coef_ did not converge\n",
      "  warnings.warn(\n"
     ]
    },
    {
     "data": {
      "application/vnd.jupyter.widget-view+json": {
       "model_id": "b6c6e424c8484d1abe0e28bb70c3eb16",
       "version_major": 2,
       "version_minor": 0
      },
      "text/plain": [
       "VBox(children=(Label(value='Waiting for wandb.init()...\\r'), FloatProgress(value=0.016933333332417533, max=1.0…"
      ]
     },
     "metadata": {},
     "output_type": "display_data"
    },
    {
     "name": "stderr",
     "output_type": "stream",
     "text": [
      "C:\\Users\\danie\\anaconda3\\lib\\site-packages\\sklearn\\linear_model\\_sag.py:350: ConvergenceWarning: The max_iter was reached which means the coef_ did not converge\n",
      "  warnings.warn(\n",
      "C:\\Users\\danie\\anaconda3\\lib\\site-packages\\sklearn\\svm\\_base.py:1244: ConvergenceWarning: Liblinear failed to converge, increase the number of iterations.\n",
      "  warnings.warn(\n",
      "C:\\Users\\danie\\anaconda3\\lib\\site-packages\\sklearn\\linear_model\\_sag.py:350: ConvergenceWarning: The max_iter was reached which means the coef_ did not converge\n",
      "  warnings.warn(\n",
      "C:\\Users\\danie\\anaconda3\\lib\\site-packages\\sklearn\\linear_model\\_sag.py:350: ConvergenceWarning: The max_iter was reached which means the coef_ did not converge\n",
      "  warnings.warn(\n"
     ]
    }
   ],
   "source": [
    "\n",
    "global config\n",
    "def train():\n",
    "    with wandb.init(tags=['RL', 'external', 'pca']) as run:\n",
    "        \n",
    "        global config\n",
    "        \n",
    "        scaler_cls = StandardScaler if wandb.config['scaler']=='standard' else RobustScaler\n",
    "        imputer_strategy = \"mean\" if wandb.config['imputer_strategy'] =='mean' else \"median\"\n",
    "        if wandb.config['imputer'] == 'knn':\n",
    "            imputer_cls = KNNImputer(n_neighbors=int(wandb.config['knn_imputer_k']))\n",
    "        else:\n",
    "            imputer_cls = SimpleImputer(strategy=imputer_strategy)\n",
    "        \n",
    "        numeric_transformer = Pipeline(\n",
    "            steps=[(\"imputer\", imputer_cls), \n",
    "                   (\"scaler\", scaler_cls()),  \n",
    "                   (\"select_var\",VarianceThreshold(wandb.config['variance_threshold']))\n",
    "                   ,(\"pca\", PCA(n_components=int(wandb.config['pca_components'])))\n",
    "                   ]\n",
    "        )\n",
    "    \n",
    "        categorical_transformer = Pipeline(\n",
    "            steps=[('imputer', SimpleImputer(strategy='most_frequent')),\n",
    "                   ('dumm',OneHotEncoder(**config_onehot))\n",
    "                  ]\n",
    "        )\n",
    "        \n",
    "        ordinal_transformer =  Pipeline(\n",
    "            steps=[('imputer', SimpleImputer(strategy='most_frequent')),\n",
    "                   ('encod',OrdinalEncoder(**config_ordinal))\n",
    "                  ]\n",
    "        )\n",
    "        preprocessor = ColumnTransformer(\n",
    "            transformers=[\n",
    "                (\"num\", numeric_transformer, numericas),\n",
    "                (\"ord\", ordinal_transformer, ordinales),\n",
    "                (\"cat\", categorical_transformer, categoricas),\n",
    "            ]\n",
    "        )\n",
    "    \n",
    "       \n",
    "        pipeline = Pipeline([\n",
    "            ('preprocesamiento', preprocessor),\n",
    "            ('classificador', LogisticRegression(\n",
    "                C=wandb.config['C'],\n",
    "                penalty=wandb.config['penalty'],\n",
    "                max_iter=wandb.config['max_iter'],\n",
    "                solver=wandb.config['solver'],\n",
    "                random_state=10\n",
    "            ))\n",
    "        ])\n",
    "        \n",
    "        \n",
    "        ## cross-validation\n",
    "        resultados_cv = cross_validate(\n",
    "            pipeline, X_train, y_train,\n",
    "            scoring=scoring, cv=5, verbose=0, n_jobs=-1,\n",
    "            return_train_score=True\n",
    "        )\n",
    "        \n",
    "        ## Test results\n",
    "        pipeline.fit(X_train, y_train)\n",
    "        y_pred_proba_train = pipeline.predict_proba(X_train)[:, 1]\n",
    "        y_pred_proba_test = pipeline.predict_proba(X_test)[:, 1]\n",
    "        \n",
    "        ks_train = ks_metrics.ks_score(y_train, y_pred_proba_train)\n",
    "        ks_test = ks_metrics.ks_score(y_test, y_pred_proba_test)\n",
    "\n",
    "        wandb.log({\n",
    "            'mean_balanced_accuracy_val':np.nanmean(resultados_cv['test_balanced_accuracy']),\n",
    "            'mean_roc_auc_val':np.nanmean(resultados_cv['test_roc_auc']),\n",
    "            'mean_ks_val':np.nanmean(resultados_cv['test_ks']),\n",
    "            'mean_ks_train':np.nanmean(resultados_cv['train_ks']),\n",
    "            'mean_average_precision_val':np.nanmean(resultados_cv['test_average_precision']),\n",
    "            'mean_average_precision_train':np.nanmean(resultados_cv['train_average_precision']),\n",
    "            'average_precision_test':skm.average_precision_score(y_test, y_pred_proba_test),\n",
    "            'roc_auc_test':skm.roc_auc_score(y_test, y_pred_proba_test),\n",
    "            'ks_train':ks_train,\n",
    "            'ks_test':ks_test\n",
    "            \n",
    "        })\n",
    "        \n",
    "#         model_path = f'../../models/RL_centralizado/{run.name}'\n",
    "#         os.mkdir(model_path)\n",
    "#         jl.dump(xgb_pipeline, os.path.join(model_path, f'{run.name}.joblib'))\n",
    "        \n",
    "count = 100\n",
    "wandb.agent(\n",
    "    sweep_id, function=train,\n",
    "    count=count, entity='danipipe777', project='project_ICESI_I'\n",
    ")"
   ]
  },
  {
   "cell_type": "code",
   "execution_count": null,
   "id": "f41128b3",
   "metadata": {},
   "outputs": [],
   "source": []
  }
 ],
 "metadata": {
  "kernelspec": {
   "display_name": "Python 3 (ipykernel)",
   "language": "python",
   "name": "python3"
  },
  "language_info": {
   "codemirror_mode": {
    "name": "ipython",
    "version": 3
   },
   "file_extension": ".py",
   "mimetype": "text/x-python",
   "name": "python",
   "nbconvert_exporter": "python",
   "pygments_lexer": "ipython3",
   "version": "3.9.13"
  },
  "toc": {
   "base_numbering": 1,
   "nav_menu": {},
   "number_sections": true,
   "sideBar": true,
   "skip_h1_title": false,
   "title_cell": "Table of Contents",
   "title_sidebar": "Contents",
   "toc_cell": false,
   "toc_position": {},
   "toc_section_display": true,
   "toc_window_display": true
  },
  "varInspector": {
   "cols": {
    "lenName": 16,
    "lenType": 16,
    "lenVar": 40
   },
   "kernels_config": {
    "python": {
     "delete_cmd_postfix": "",
     "delete_cmd_prefix": "del ",
     "library": "var_list.py",
     "varRefreshCmd": "print(var_dic_list())"
    },
    "r": {
     "delete_cmd_postfix": ") ",
     "delete_cmd_prefix": "rm(",
     "library": "var_list.r",
     "varRefreshCmd": "cat(var_dic_list()) "
    }
   },
   "types_to_exclude": [
    "module",
    "function",
    "builtin_function_or_method",
    "instance",
    "_Feature"
   ],
   "window_display": false
  }
 },
 "nbformat": 4,
 "nbformat_minor": 5
}
